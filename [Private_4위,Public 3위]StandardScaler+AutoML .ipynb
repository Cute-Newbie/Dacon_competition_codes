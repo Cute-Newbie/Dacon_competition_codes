{
  "cells": [
    {
      "cell_type": "code",
      "execution_count": null,
      "metadata": {
        "id": "taxGczryYp9J"
      },
      "outputs": [],
      "source": [
        "!pip install mljar-supervised # 이번에 사용한 AutoML 모델입니다."
      ]
    },
    {
      "cell_type": "code",
      "execution_count": null,
      "metadata": {
        "id": "jEsMOSJ0pL7e"
      },
      "outputs": [],
      "source": [
        "# 필요한 Modules를 import 합니다. \n",
        "import pandas as pd\n",
        "import numpy as np\n",
        "from sklearn.preprocessing import StandardScaler\n",
        "from sklearn.preprocessing import Normalizer\n",
        "import os\n",
        "import numpy as np\n",
        "import random\n",
        "from supervised.automl import AutoML"
      ]
    },
    {
      "cell_type": "code",
      "execution_count": null,
      "metadata": {
        "id": "dREMkSjWYWab"
      },
      "outputs": [],
      "source": [
        "# Seed를 고정합니다. \n",
        "class CFG:\n",
        "    SEED = 42\n",
        "    \n",
        "def seed_everything(seed):\n",
        "    random.seed(seed)\n",
        "    os.environ['PYTHONHASHSEED'] = str(seed)\n",
        "    np.random.seed(seed)\n",
        "seed_everything(CFG.SEED) # Seed 고정"
      ]
    },
    {
      "cell_type": "code",
      "execution_count": null,
      "metadata": {
        "id": "87uYi7XYpMf9"
      },
      "outputs": [],
      "source": [
        "# train data와 test data를 불러옵니다.\n",
        "# 둘다 용량이 작아서 구글 코랩과 연동하지 않고 바로 올리고 사용했습니다.\n",
        "train = pd.read_csv('/content/train.csv')\n",
        "test = pd.read_csv('/content/test.csv')"
      ]
    },
    {
      "cell_type": "code",
      "execution_count": null,
      "metadata": {
        "id": "hZ08a-qNusEN"
      },
      "outputs": [],
      "source": [
        "# 연속형 수치들에 대해서 Standardscaler,Normalizer를 사용하였고 Standarscaler의 성능이 좋아서 이걸 사용했습니다. \n",
        "std1 = StandardScaler()\n",
        "std2 = StandardScaler()\n",
        "std3 = StandardScaler()\n",
        "std4 = StandardScaler()\n",
        "std5 = StandardScaler()\n",
        "std6 = StandardScaler()\n",
        "std7 = StandardScaler()\n",
        "\n",
        "\n",
        "# std1 = Normalizer()\n",
        "# std2 = Normalizer()\n",
        "# std3 = Normalizer()\n",
        "# std4 = Normalizer()\n",
        "# std5 = Normalizer()\n",
        "# std6 = Normalizer()\n",
        "# std7 = Normalizer()"
      ]
    },
    {
      "cell_type": "code",
      "execution_count": null,
      "metadata": {
        "colab": {
          "base_uri": "https://localhost:8080/"
        },
        "id": "XzQ_WuPMusGX",
        "outputId": "c5243297-b44f-4a55-b355-1214ec0a9b6f"
      },
      "outputs": [
        {
          "data": {
            "text/plain": [
              "Index(['ID', 'propertyType', 'bedrooms', 'latitude', 'longitude', 'suburbName',\n",
              "       'distanceMetro(km)', 'distanceAirport(km)', 'distanceHospital(km)',\n",
              "       'distanceRailway(km)', 'area(square_meters)', 'monthlyRent(us_dollar)'],\n",
              "      dtype='object')"
            ]
          },
          "execution_count": 96,
          "metadata": {},
          "output_type": "execute_result"
        }
      ],
      "source": [
        "# 혹시 누락한 column이 있나 확인 \n",
        "train.columns"
      ]
    },
    {
      "cell_type": "code",
      "execution_count": null,
      "metadata": {
        "id": "KM5xPB5O4X3S"
      },
      "outputs": [],
      "source": [
        "# Latitude Scaling\n",
        "train[['latitude']] = std1.fit_transform(train[['latitude']].values.reshape(-1,1))\n",
        "test[['latitude']] = std1.transform(test[['latitude']].values.reshape(-1,1))"
      ]
    },
    {
      "cell_type": "code",
      "execution_count": null,
      "metadata": {
        "id": "sdkmRO-c4Cu-"
      },
      "outputs": [],
      "source": [
        "# Longitude scaling\n",
        "train[['longitude']] = std2.fit_transform(train[['longitude']].values.reshape(-1,1))\n",
        "test[['longitude']] = std2.transform(test[['longitude']].values.reshape(-1,1))"
      ]
    },
    {
      "cell_type": "code",
      "execution_count": null,
      "metadata": {
        "id": "jTjuImv14Cxg"
      },
      "outputs": [],
      "source": [
        "# DistanceMetro scalling \n",
        "train[['distanceMetro(km)']] = std3.fit_transform(train[['distanceMetro(km)']].values.reshape(-1,1))\n",
        "test[['distanceMetro(km)']] = std3.transform(test[['distanceMetro(km)']].values.reshape(-1,1))"
      ]
    },
    {
      "cell_type": "code",
      "execution_count": null,
      "metadata": {
        "id": "JfloNrmQ4Czs"
      },
      "outputs": [],
      "source": [
        "# DistanceAirport scalling \n",
        "train[['distanceAirport(km)']] = std4.fit_transform(train[['distanceAirport(km)']].values.reshape(-1,1))\n",
        "test[['distanceAirport(km)']] = std4.transform(test[['distanceAirport(km)']].values.reshape(-1,1))"
      ]
    },
    {
      "cell_type": "code",
      "execution_count": null,
      "metadata": {
        "id": "SksUhLPM4C2A"
      },
      "outputs": [],
      "source": [
        "# DistanceAirport Hospital scaling \n",
        "train[['distanceHospital(km)']] = std5.fit_transform(train[['distanceHospital(km)']].values.reshape(-1,1))\n",
        "test[['distanceHospital(km)']] = std5.transform(test[['distanceHospital(km)']].values.reshape(-1,1))"
      ]
    },
    {
      "cell_type": "code",
      "execution_count": null,
      "metadata": {
        "id": "9UhSJEjn420R"
      },
      "outputs": [],
      "source": [
        "# DistanceAirport Railway scaling \n",
        "train[['distanceRailway(km)']] = std6.fit_transform(train[['distanceRailway(km)']].values.reshape(-1,1))\n",
        "test[['distanceRailway(km)']] = std6.transform(test[['distanceRailway(km)']].values.reshape(-1,1))"
      ]
    },
    {
      "cell_type": "code",
      "execution_count": null,
      "metadata": {
        "id": "FtshZWwm423B"
      },
      "outputs": [],
      "source": [
        "# Area(square_meters) scaling \n",
        "train[['area(square_meters)']] = std7.fit_transform(train[['area(square_meters)']].values.reshape(-1,1))\n",
        "test[['area(square_meters)']] = std7.transform(test[['area(square_meters)']].values.reshape(-1,1))"
      ]
    },
    {
      "cell_type": "code",
      "execution_count": null,
      "metadata": {
        "id": "LTF09A_l9qdt"
      },
      "outputs": [],
      "source": [
        "# train_x,train_y를 구성합니다. \n",
        "train_x = train.drop(['monthlyRent(us_dollar)'],axis=1)\n",
        "train_y = train['monthlyRent(us_dollar)']"
      ]
    },
    {
      "cell_type": "code",
      "execution_count": null,
      "metadata": {
        "colab": {
          "base_uri": "https://localhost:8080/",
          "height": 609
        },
        "id": "T0eyDtp6Zwht",
        "outputId": "d8111b05-55ee-4b43-e306-1322fad1343e"
      },
      "outputs": [
        {
          "data": {
            "text/html": [
              "\n",
              "  <div id=\"df-9034ce87-ab2f-408f-90fe-6da9549e225c\">\n",
              "    <div class=\"colab-df-container\">\n",
              "      <div>\n",
              "<style scoped>\n",
              "    .dataframe tbody tr th:only-of-type {\n",
              "        vertical-align: middle;\n",
              "    }\n",
              "\n",
              "    .dataframe tbody tr th {\n",
              "        vertical-align: top;\n",
              "    }\n",
              "\n",
              "    .dataframe thead th {\n",
              "        text-align: right;\n",
              "    }\n",
              "</style>\n",
              "<table border=\"1\" class=\"dataframe\">\n",
              "  <thead>\n",
              "    <tr style=\"text-align: right;\">\n",
              "      <th></th>\n",
              "      <th>propertyType</th>\n",
              "      <th>bedrooms</th>\n",
              "      <th>latitude</th>\n",
              "      <th>longitude</th>\n",
              "      <th>suburbName</th>\n",
              "      <th>distanceMetro(km)</th>\n",
              "      <th>distanceAirport(km)</th>\n",
              "      <th>distanceHospital(km)</th>\n",
              "      <th>distanceRailway(km)</th>\n",
              "      <th>area(square_meters)</th>\n",
              "    </tr>\n",
              "  </thead>\n",
              "  <tbody>\n",
              "    <tr>\n",
              "      <th>0</th>\n",
              "      <td>Apartment</td>\n",
              "      <td>3</td>\n",
              "      <td>0.388307</td>\n",
              "      <td>1.371421</td>\n",
              "      <td>Delhi East</td>\n",
              "      <td>-0.441952</td>\n",
              "      <td>1.128739</td>\n",
              "      <td>0.047085</td>\n",
              "      <td>-0.553800</td>\n",
              "      <td>-0.309692</td>\n",
              "    </tr>\n",
              "    <tr>\n",
              "      <th>1</th>\n",
              "      <td>Independent Floor</td>\n",
              "      <td>1</td>\n",
              "      <td>-1.584502</td>\n",
              "      <td>0.424460</td>\n",
              "      <td>Delhi South</td>\n",
              "      <td>1.281388</td>\n",
              "      <td>-0.025078</td>\n",
              "      <td>-0.512773</td>\n",
              "      <td>0.606842</td>\n",
              "      <td>-0.309692</td>\n",
              "    </tr>\n",
              "    <tr>\n",
              "      <th>2</th>\n",
              "      <td>Independent Floor</td>\n",
              "      <td>3</td>\n",
              "      <td>1.452729</td>\n",
              "      <td>-0.139542</td>\n",
              "      <td>Delhi North</td>\n",
              "      <td>0.522330</td>\n",
              "      <td>0.658430</td>\n",
              "      <td>0.768235</td>\n",
              "      <td>-0.150347</td>\n",
              "      <td>-0.387870</td>\n",
              "    </tr>\n",
              "    <tr>\n",
              "      <th>3</th>\n",
              "      <td>Independent Floor</td>\n",
              "      <td>3</td>\n",
              "      <td>1.314514</td>\n",
              "      <td>-0.187065</td>\n",
              "      <td>Other</td>\n",
              "      <td>0.077005</td>\n",
              "      <td>0.510947</td>\n",
              "      <td>0.650376</td>\n",
              "      <td>-0.220863</td>\n",
              "      <td>1.020853</td>\n",
              "    </tr>\n",
              "    <tr>\n",
              "      <th>4</th>\n",
              "      <td>Apartment</td>\n",
              "      <td>4</td>\n",
              "      <td>-0.469790</td>\n",
              "      <td>-1.260945</td>\n",
              "      <td>Dwarka</td>\n",
              "      <td>-0.028139</td>\n",
              "      <td>-1.187342</td>\n",
              "      <td>0.555702</td>\n",
              "      <td>0.920365</td>\n",
              "      <td>1.960002</td>\n",
              "    </tr>\n",
              "    <tr>\n",
              "      <th>...</th>\n",
              "      <td>...</td>\n",
              "      <td>...</td>\n",
              "      <td>...</td>\n",
              "      <td>...</td>\n",
              "      <td>...</td>\n",
              "      <td>...</td>\n",
              "      <td>...</td>\n",
              "      <td>...</td>\n",
              "      <td>...</td>\n",
              "      <td>...</td>\n",
              "    </tr>\n",
              "    <tr>\n",
              "      <th>8687</th>\n",
              "      <td>Apartment</td>\n",
              "      <td>1</td>\n",
              "      <td>-0.126540</td>\n",
              "      <td>-1.511441</td>\n",
              "      <td>Dwarka</td>\n",
              "      <td>-0.685278</td>\n",
              "      <td>-0.747260</td>\n",
              "      <td>0.911727</td>\n",
              "      <td>1.104991</td>\n",
              "      <td>-0.935792</td>\n",
              "    </tr>\n",
              "    <tr>\n",
              "      <th>8688</th>\n",
              "      <td>Apartment</td>\n",
              "      <td>1</td>\n",
              "      <td>0.476932</td>\n",
              "      <td>0.019575</td>\n",
              "      <td>Delhi Central</td>\n",
              "      <td>-0.683450</td>\n",
              "      <td>-0.092098</td>\n",
              "      <td>-0.257469</td>\n",
              "      <td>-0.868784</td>\n",
              "      <td>-0.348781</td>\n",
              "    </tr>\n",
              "    <tr>\n",
              "      <th>8689</th>\n",
              "      <td>Independent Floor</td>\n",
              "      <td>3</td>\n",
              "      <td>-0.900830</td>\n",
              "      <td>0.979659</td>\n",
              "      <td>Delhi South</td>\n",
              "      <td>-0.528434</td>\n",
              "      <td>0.428337</td>\n",
              "      <td>-0.787262</td>\n",
              "      <td>-0.042214</td>\n",
              "      <td>0.785981</td>\n",
              "    </tr>\n",
              "    <tr>\n",
              "      <th>8690</th>\n",
              "      <td>Independent Floor</td>\n",
              "      <td>1</td>\n",
              "      <td>0.272436</td>\n",
              "      <td>1.174399</td>\n",
              "      <td>Delhi East</td>\n",
              "      <td>-0.492676</td>\n",
              "      <td>0.874227</td>\n",
              "      <td>-0.209677</td>\n",
              "      <td>-0.781576</td>\n",
              "      <td>-1.012453</td>\n",
              "    </tr>\n",
              "    <tr>\n",
              "      <th>8691</th>\n",
              "      <td>Independent Floor</td>\n",
              "      <td>2</td>\n",
              "      <td>1.434100</td>\n",
              "      <td>-0.309093</td>\n",
              "      <td>Other</td>\n",
              "      <td>0.282547</td>\n",
              "      <td>0.577387</td>\n",
              "      <td>0.821521</td>\n",
              "      <td>-0.022949</td>\n",
              "      <td>-0.544395</td>\n",
              "    </tr>\n",
              "  </tbody>\n",
              "</table>\n",
              "<p>8692 rows × 10 columns</p>\n",
              "</div>\n",
              "      <button class=\"colab-df-convert\" onclick=\"convertToInteractive('df-9034ce87-ab2f-408f-90fe-6da9549e225c')\"\n",
              "              title=\"Convert this dataframe to an interactive table.\"\n",
              "              style=\"display:none;\">\n",
              "        \n",
              "  <svg xmlns=\"http://www.w3.org/2000/svg\" height=\"24px\"viewBox=\"0 0 24 24\"\n",
              "       width=\"24px\">\n",
              "    <path d=\"M0 0h24v24H0V0z\" fill=\"none\"/>\n",
              "    <path d=\"M18.56 5.44l.94 2.06.94-2.06 2.06-.94-2.06-.94-.94-2.06-.94 2.06-2.06.94zm-11 1L8.5 8.5l.94-2.06 2.06-.94-2.06-.94L8.5 2.5l-.94 2.06-2.06.94zm10 10l.94 2.06.94-2.06 2.06-.94-2.06-.94-.94-2.06-.94 2.06-2.06.94z\"/><path d=\"M17.41 7.96l-1.37-1.37c-.4-.4-.92-.59-1.43-.59-.52 0-1.04.2-1.43.59L10.3 9.45l-7.72 7.72c-.78.78-.78 2.05 0 2.83L4 21.41c.39.39.9.59 1.41.59.51 0 1.02-.2 1.41-.59l7.78-7.78 2.81-2.81c.8-.78.8-2.07 0-2.86zM5.41 20L4 18.59l7.72-7.72 1.47 1.35L5.41 20z\"/>\n",
              "  </svg>\n",
              "      </button>\n",
              "      \n",
              "  <style>\n",
              "    .colab-df-container {\n",
              "      display:flex;\n",
              "      flex-wrap:wrap;\n",
              "      gap: 12px;\n",
              "    }\n",
              "\n",
              "    .colab-df-convert {\n",
              "      background-color: #E8F0FE;\n",
              "      border: none;\n",
              "      border-radius: 50%;\n",
              "      cursor: pointer;\n",
              "      display: none;\n",
              "      fill: #1967D2;\n",
              "      height: 32px;\n",
              "      padding: 0 0 0 0;\n",
              "      width: 32px;\n",
              "    }\n",
              "\n",
              "    .colab-df-convert:hover {\n",
              "      background-color: #E2EBFA;\n",
              "      box-shadow: 0px 1px 2px rgba(60, 64, 67, 0.3), 0px 1px 3px 1px rgba(60, 64, 67, 0.15);\n",
              "      fill: #174EA6;\n",
              "    }\n",
              "\n",
              "    [theme=dark] .colab-df-convert {\n",
              "      background-color: #3B4455;\n",
              "      fill: #D2E3FC;\n",
              "    }\n",
              "\n",
              "    [theme=dark] .colab-df-convert:hover {\n",
              "      background-color: #434B5C;\n",
              "      box-shadow: 0px 1px 3px 1px rgba(0, 0, 0, 0.15);\n",
              "      filter: drop-shadow(0px 1px 2px rgba(0, 0, 0, 0.3));\n",
              "      fill: #FFFFFF;\n",
              "    }\n",
              "  </style>\n",
              "\n",
              "      <script>\n",
              "        const buttonEl =\n",
              "          document.querySelector('#df-9034ce87-ab2f-408f-90fe-6da9549e225c button.colab-df-convert');\n",
              "        buttonEl.style.display =\n",
              "          google.colab.kernel.accessAllowed ? 'block' : 'none';\n",
              "\n",
              "        async function convertToInteractive(key) {\n",
              "          const element = document.querySelector('#df-9034ce87-ab2f-408f-90fe-6da9549e225c');\n",
              "          const dataTable =\n",
              "            await google.colab.kernel.invokeFunction('convertToInteractive',\n",
              "                                                     [key], {});\n",
              "          if (!dataTable) return;\n",
              "\n",
              "          const docLinkHtml = 'Like what you see? Visit the ' +\n",
              "            '<a target=\"_blank\" href=https://colab.research.google.com/notebooks/data_table.ipynb>data table notebook</a>'\n",
              "            + ' to learn more about interactive tables.';\n",
              "          element.innerHTML = '';\n",
              "          dataTable['output_type'] = 'display_data';\n",
              "          await google.colab.output.renderOutput(dataTable, element);\n",
              "          const docLink = document.createElement('div');\n",
              "          docLink.innerHTML = docLinkHtml;\n",
              "          element.appendChild(docLink);\n",
              "        }\n",
              "      </script>\n",
              "    </div>\n",
              "  </div>\n",
              "  "
            ],
            "text/plain": [
              "           propertyType  bedrooms  latitude  longitude     suburbName  \\\n",
              "0             Apartment         3  0.388307   1.371421     Delhi East   \n",
              "1     Independent Floor         1 -1.584502   0.424460    Delhi South   \n",
              "2     Independent Floor         3  1.452729  -0.139542    Delhi North   \n",
              "3     Independent Floor         3  1.314514  -0.187065          Other   \n",
              "4             Apartment         4 -0.469790  -1.260945         Dwarka   \n",
              "...                 ...       ...       ...        ...            ...   \n",
              "8687          Apartment         1 -0.126540  -1.511441         Dwarka   \n",
              "8688          Apartment         1  0.476932   0.019575  Delhi Central   \n",
              "8689  Independent Floor         3 -0.900830   0.979659    Delhi South   \n",
              "8690  Independent Floor         1  0.272436   1.174399     Delhi East   \n",
              "8691  Independent Floor         2  1.434100  -0.309093          Other   \n",
              "\n",
              "      distanceMetro(km)  distanceAirport(km)  distanceHospital(km)  \\\n",
              "0             -0.441952             1.128739              0.047085   \n",
              "1              1.281388            -0.025078             -0.512773   \n",
              "2              0.522330             0.658430              0.768235   \n",
              "3              0.077005             0.510947              0.650376   \n",
              "4             -0.028139            -1.187342              0.555702   \n",
              "...                 ...                  ...                   ...   \n",
              "8687          -0.685278            -0.747260              0.911727   \n",
              "8688          -0.683450            -0.092098             -0.257469   \n",
              "8689          -0.528434             0.428337             -0.787262   \n",
              "8690          -0.492676             0.874227             -0.209677   \n",
              "8691           0.282547             0.577387              0.821521   \n",
              "\n",
              "      distanceRailway(km)  area(square_meters)  \n",
              "0               -0.553800            -0.309692  \n",
              "1                0.606842            -0.309692  \n",
              "2               -0.150347            -0.387870  \n",
              "3               -0.220863             1.020853  \n",
              "4                0.920365             1.960002  \n",
              "...                   ...                  ...  \n",
              "8687             1.104991            -0.935792  \n",
              "8688            -0.868784            -0.348781  \n",
              "8689            -0.042214             0.785981  \n",
              "8690            -0.781576            -1.012453  \n",
              "8691            -0.022949            -0.544395  \n",
              "\n",
              "[8692 rows x 10 columns]"
            ]
          },
          "execution_count": 23,
          "metadata": {},
          "output_type": "execute_result"
        }
      ],
      "source": [
        "# train_x 확인 \n",
        "train_x"
      ]
    },
    {
      "cell_type": "code",
      "execution_count": null,
      "metadata": {
        "colab": {
          "base_uri": "https://localhost:8080/"
        },
        "id": "N7rSgUxLZwkn",
        "outputId": "e07b7084-d861-4c91-e768-39f703829771"
      },
      "outputs": [
        {
          "data": {
            "text/plain": [
              "0       307\n",
              "1       110\n",
              "2       369\n",
              "3       676\n",
              "4       418\n",
              "       ... \n",
              "8687    159\n",
              "8688    172\n",
              "8689    738\n",
              "8690    184\n",
              "8691    319\n",
              "Name: monthlyRent(us_dollar), Length: 8692, dtype: int64"
            ]
          },
          "execution_count": 24,
          "metadata": {},
          "output_type": "execute_result"
        }
      ],
      "source": [
        "# train_y 확인 \n",
        "train_y"
      ]
    },
    {
      "cell_type": "code",
      "execution_count": null,
      "metadata": {
        "id": "njFLoRhHZwnK"
      },
      "outputs": [],
      "source": [
        "# 본 대회의 eval_metric입력 그리고 AutoML의 성능을 끌어내기 위하여 mode에 \"Compete\" 입력\n",
        "automl = AutoML(mode=\"Compete\", eval_metric='mae')"
      ]
    },
    {
      "cell_type": "markdown",
      "metadata": {
        "id": "w27XqFJMj9iw"
      },
      "source": []
    },
    {
      "cell_type": "code",
      "execution_count": null,
      "metadata": {
        "colab": {
          "base_uri": "https://localhost:8080/"
        },
        "id": "F_UZQ3GGZwp0",
        "outputId": "82d2a688-68fe-4d4e-82a8-b78423228032"
      },
      "outputs": [
        {
          "name": "stdout",
          "output_type": "stream",
          "text": [
            "AutoML directory: AutoML_1\n",
            "The task is regression with evaluation metric mae\n",
            "AutoML will use algorithms: ['Decision Tree', 'Linear', 'Random Forest', 'Extra Trees', 'LightGBM', 'Xgboost', 'CatBoost', 'Neural Network', 'Nearest Neighbors']\n",
            "AutoML will stack models\n",
            "AutoML will ensemble available models\n",
            "AutoML steps: ['adjust_validation', 'simple_algorithms', 'default_algorithms', 'not_so_random', 'mix_encoding', 'golden_features', 'kmeans_features', 'insert_random_feature', 'features_selection', 'hill_climbing_1', 'hill_climbing_2', 'boost_on_errors', 'ensemble', 'stack', 'ensemble_stacked']\n",
            "* Step adjust_validation will try to check up to 1 model\n",
            "1_DecisionTree mae 87.037894 trained in 0.46 seconds\n",
            "Adjust validation. Remove: 1_DecisionTree\n",
            "Validation strategy: 10-fold CV Shuffle\n",
            "* Step simple_algorithms will try to check up to 4 models\n",
            "1_DecisionTree mae 84.471098 trained in 2.48 seconds\n",
            "2_DecisionTree mae 78.821073 trained in 2.41 seconds\n",
            "3_DecisionTree mae 78.821073 trained in 2.48 seconds\n",
            "4_Linear mae 104.263727 trained in 3.51 seconds\n",
            "* Step default_algorithms will try to check up to 7 models\n",
            "5_Default_LightGBM mae 56.292587 trained in 14.94 seconds\n",
            "6_Default_Xgboost mae 56.136043 trained in 12.35 seconds\n",
            "7_Default_CatBoost mae 56.04984 trained in 72.04 seconds\n",
            "8_Default_NeuralNetwork mae 66.658551 trained in 13.62 seconds\n",
            "9_Default_RandomForest mae 73.093552 trained in 30.54 seconds\n",
            "10_Default_ExtraTrees mae 88.541921 trained in 11.68 seconds\n",
            "There was an error during 11_Default_NearestNeighbors training.\n",
            "Please check AutoML_1/errors.md for details.\n",
            "* Step not_so_random will try to check up to 63 models\n",
            "20_LightGBM mae 57.020677 trained in 15.29 seconds\n",
            "11_Xgboost mae 56.712968 trained in 13.51 seconds\n",
            "29_CatBoost mae 55.611193 trained in 144.66 seconds\n",
            "38_RandomForest mae 72.639258 trained in 19.37 seconds\n",
            "47_ExtraTrees mae 99.656328 trained in 11.31 seconds\n",
            "56_NeuralNetwork mae 65.688893 trained in 11.97 seconds\n",
            "There was an error during 65_NearestNeighbors training.\n",
            "Please check AutoML_1/errors.md for details.\n",
            "21_LightGBM mae 56.434808 trained in 7.41 seconds\n",
            "12_Xgboost mae 56.497175 trained in 13.03 seconds\n",
            "30_CatBoost mae 55.743506 trained in 90.74 seconds\n",
            "39_RandomForest mae 79.982907 trained in 24.15 seconds\n",
            "48_ExtraTrees mae 101.991295 trained in 17.11 seconds\n",
            "57_NeuralNetwork mae 63.824131 trained in 24.75 seconds\n",
            "There was an error during 66_NearestNeighbors training.\n",
            "Please check AutoML_1/errors.md for details.\n",
            "22_LightGBM mae 56.375159 trained in 18.09 seconds\n",
            "13_Xgboost mae 57.018551 trained in 11.34 seconds\n",
            "31_CatBoost mae 55.960779 trained in 71.99 seconds\n",
            "40_RandomForest mae 65.424793 trained in 46.28 seconds\n",
            "49_ExtraTrees mae 74.033462 trained in 13.47 seconds\n",
            "58_NeuralNetwork mae 75.519179 trained in 21.6 seconds\n",
            "There was an error during 67_NearestNeighbors training.\n",
            "Please check AutoML_1/errors.md for details.\n",
            "23_LightGBM mae 56.519381 trained in 20.22 seconds\n",
            "14_Xgboost mae 57.660127 trained in 11.19 seconds\n",
            "32_CatBoost mae 56.529285 trained in 54.44 seconds\n",
            "41_RandomForest mae 64.609314 trained in 34.21 seconds\n",
            "50_ExtraTrees mae 79.372682 trained in 12.12 seconds\n",
            "59_NeuralNetwork mae 65.948371 trained in 20.05 seconds\n",
            "There was an error during 68_NearestNeighbors training.\n",
            "Please check AutoML_1/errors.md for details.\n",
            "24_LightGBM mae 57.344996 trained in 10.66 seconds\n",
            "15_Xgboost mae 57.421055 trained in 13.96 seconds\n",
            "33_CatBoost mae 56.562978 trained in 59.57 seconds\n",
            "42_RandomForest mae 62.394141 trained in 41.05 seconds\n",
            "51_ExtraTrees mae 72.251923 trained in 17.36 seconds\n",
            "60_NeuralNetwork mae 63.319755 trained in 28.13 seconds\n",
            "There was an error during 69_NearestNeighbors training.\n",
            "Please check AutoML_1/errors.md for details.\n",
            "25_LightGBM mae 55.916489 trained in 18.38 seconds\n",
            "16_Xgboost mae 58.04776 trained in 14.07 seconds\n",
            "34_CatBoost mae 57.460585 trained in 61.01 seconds\n",
            "43_RandomForest mae 63.240863 trained in 45.48 seconds\n",
            "52_ExtraTrees mae 69.071967 trained in 15.5 seconds\n",
            "61_NeuralNetwork mae 63.429466 trained in 23.75 seconds\n",
            "There was an error during 70_NearestNeighbors training.\n",
            "Please check AutoML_1/errors.md for details.\n",
            "26_LightGBM mae 56.626758 trained in 21.82 seconds\n",
            "17_Xgboost mae 56.425988 trained in 19.01 seconds\n",
            "35_CatBoost mae 55.926608 trained in 244.44 seconds\n",
            "44_RandomForest mae 72.200085 trained in 26.96 seconds\n",
            "53_ExtraTrees mae 92.52795 trained in 16.52 seconds\n",
            "62_NeuralNetwork mae 65.451452 trained in 20.66 seconds\n",
            "There was an error during 71_NearestNeighbors training.\n",
            "Please check AutoML_1/errors.md for details.\n",
            "27_LightGBM mae 56.586934 trained in 15.17 seconds\n",
            "18_Xgboost mae 57.366893 trained in 17.02 seconds\n",
            "36_CatBoost mae 56.387308 trained in 68.31 seconds\n",
            "* Step mix_encoding will try to check up to 1 model\n",
            "6_Default_Xgboost_categorical_mix mae 56.536319 trained in 20.2 seconds\n",
            "* Step golden_features will try to check up to 3 models\n",
            "None 10\n",
            "Add Golden Feature: bedrooms_ratio_area(square_meters)\n",
            "Add Golden Feature: area(square_meters)_sum_bedrooms\n",
            "Add Golden Feature: area(square_meters)_ratio_bedrooms\n",
            "Add Golden Feature: area(square_meters)_multiply_bedrooms\n",
            "Add Golden Feature: distanceHospital(km)_diff_area(square_meters)\n",
            "Add Golden Feature: distanceRailway(km)_diff_area(square_meters)\n",
            "Add Golden Feature: distanceMetro(km)_diff_area(square_meters)\n",
            "Add Golden Feature: bedrooms_diff_distanceHospital(km)\n",
            "Add Golden Feature: bedrooms_diff_distanceRailway(km)\n",
            "Add Golden Feature: area(square_meters)_sum_distanceMetro(km)\n",
            "Created 10 Golden Features in 8.77 seconds.\n",
            "29_CatBoost_GoldenFeatures mae 55.919812 trained in 286.41 seconds\n",
            "* Step kmeans_features will try to check up to 3 models\n",
            "29_CatBoost_KMeansFeatures mae 56.346523 trained in 253.26 seconds\n",
            "Not enough time to perform features selection. Skip\n",
            "Time needed for features selection ~ 410.0 seconds\n",
            "Please increase total_time_limit to at least (4156 seconds) to have features selection\n",
            "Skip insert_random_feature because no parameters were generated.\n",
            "Skip features_selection because no parameters were generated.\n",
            "* Step hill_climbing_1 will try to check up to 29 models\n",
            "63_CatBoost mae 55.540261 trained in 154.63 seconds\n",
            "64_CatBoost mae 55.8094 trained in 160.08 seconds\n",
            "65_CatBoost mae 55.963377 trained in 91.43 seconds\n",
            "* Step hill_climbing_2 will try to check up to 31 models\n",
            "66_CatBoost mae 55.802022 trained in 122.81 seconds\n",
            "67_CatBoost mae 55.5858 trained in 239.76 seconds\n",
            "Skip boost_on_errors because of the time limit.\n",
            "* Step ensemble will try to check up to 1 model\n",
            "Ensemble mae 54.408571 trained in 10.91 seconds\n",
            "* Step stack will try to check up to 53 models\n",
            "63_CatBoost_Stacked mae 55.665727 trained in 171.91 seconds\n",
            "25_LightGBM_Stacked mae 56.597457 trained in 33.92 seconds\n",
            "6_Default_Xgboost_Stacked mae 55.686645 trained in 30.67 seconds\n",
            "42_RandomForest_Stacked not trained. Stop training after the first fold. Time needed to train on the first fold 45.0 seconds. The time estimate for training on all folds is larger than total_time_limit.\n",
            "60_NeuralNetwork_Stacked mae 5.30538486796729e+290 trained in 61.18 seconds\n",
            "52_ExtraTrees_Stacked mae 55.065837 trained in 41.56 seconds\n",
            "67_CatBoost_Stacked not trained. Stop training after the first fold. Time needed to train on the first fold 25.0 seconds. The time estimate for training on all folds is larger than total_time_limit.\n",
            "5_Default_LightGBM_Stacked mae 56.174142 trained in 33.18 seconds\n",
            "17_Xgboost_Stacked mae 56.39175 trained in 37.41 seconds\n",
            "43_RandomForest_Stacked not trained. Stop training after the first fold. Time needed to train on the first fold 16.0 seconds. The time estimate for training on all folds is larger than total_time_limit.\n",
            "* Step ensemble_stacked will try to check up to 1 model\n",
            "Ensemble_Stacked mae 54.404902 trained in 14.11 seconds\n",
            "AutoML fit time: 3638.7 seconds\n",
            "AutoML best model: Ensemble_Stacked\n"
          ]
        },
        {
          "data": {
            "text/plain": [
              "AutoML(eval_metric='mae', mode='Compete')"
            ]
          },
          "execution_count": 26,
          "metadata": {},
          "output_type": "execute_result"
        }
      ],
      "source": [
        "# 훈련 시작 \n",
        "automl.fit(train_x, train_y)"
      ]
    },
    {
      "cell_type": "code",
      "execution_count": null,
      "metadata": {
        "id": "f7KyVTKEZwsb"
      },
      "outputs": [],
      "source": [
        "# 예측\n",
        "pred = automl.predict(test.drop(['ID'],axis=1))"
      ]
    },
    {
      "cell_type": "code",
      "execution_count": null,
      "metadata": {
        "id": "u86k3NxXpCgR"
      },
      "outputs": [],
      "source": [
        "# submission File 불러오기 \n",
        "submission = pd.read_csv(\"sample_submission.csv\")"
      ]
    },
    {
      "cell_type": "code",
      "execution_count": null,
      "metadata": {
        "id": "Q9LRyQ4mpC-f"
      },
      "outputs": [],
      "source": [
        "# 예측값 대입 \n",
        "submission.iloc[:, 1] = pred"
      ]
    },
    {
      "cell_type": "code",
      "execution_count": null,
      "metadata": {
        "id": "l8RCHcUEpC_F"
      },
      "outputs": [],
      "source": [
        "# 저장 및 제출 \n",
        "submission.to_csv('house_supervised1.csv',index = False)"
      ]
    }
  ],
  "metadata": {
    "colab": {
      "provenance": []
    },
    "gpuClass": "standard",
    "kernelspec": {
      "display_name": "Python 3",
      "name": "python3"
    },
    "language_info": {
      "name": "python"
    }
  },
  "nbformat": 4,
  "nbformat_minor": 0
}
